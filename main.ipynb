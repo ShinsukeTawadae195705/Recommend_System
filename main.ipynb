{
 "cells": [
  {
   "cell_type": "markdown",
   "id": "6a6d24f2-806d-4fc8-b3f2-3a7e7d4f0bd8",
   "metadata": {},
   "source": [
    "# レコメンドシステム作成"
   ]
  },
  {
   "cell_type": "markdown",
   "id": "0b944177-64df-41b3-aa09-f35c7c208a0e",
   "metadata": {},
   "source": [
    "必要に応じて以下を実行(既にtqdmをインストール済みなら不要)"
   ]
  },
  {
   "cell_type": "code",
   "execution_count": null,
   "id": "8e3cfaf9-7a3d-41c2-9381-e755b2782a0f",
   "metadata": {},
   "outputs": [],
   "source": [
    "!pip install tqdm"
   ]
  },
  {
   "cell_type": "markdown",
   "id": "3c18b8ba-f07e-4de1-b6b5-ac3f74037897",
   "metadata": {},
   "source": [
    "### モジュールのインポート"
   ]
  },
  {
   "cell_type": "code",
   "execution_count": 1,
   "id": "356c03b2-6be4-4797-9ab2-c2437f0d3f24",
   "metadata": {},
   "outputs": [],
   "source": [
    "# coding: UTF-8\n",
    "import pandas as pd\n",
    "import numpy as np\n",
    "import matplotlib.pyplot as plt\n",
    "import pandas as pd\n",
    "import lightgbm as lgb\n",
    "from collections import defaultdict\n",
    "from tqdm.notebook import trange"
   ]
  },
  {
   "cell_type": "markdown",
   "id": "b3ab73ba-75ac-4a6c-86c8-3ad63feffdef",
   "metadata": {},
   "source": [
    "以下のパス名やファイル名のみ適宜変更する"
   ]
  },
  {
   "cell_type": "code",
   "execution_count": 2,
   "id": "9b4f7b6d-2349-4343-a783-2d2b01055239",
   "metadata": {},
   "outputs": [],
   "source": [
    "#対象となるデータセットファイルのパス名\n",
    "dataset_path = \"./train/train_D.tsv\"\n",
    "#test.tsvのパス名\n",
    "test_path = \"./test.tsv\"\n",
    "#学習結果を保存するファイル名\n",
    "save_file_path = \"resultsD.tsv\""
   ]
  },
  {
   "cell_type": "markdown",
   "id": "0a35e215-fb2f-4b71-ae65-61210ec502ec",
   "metadata": {},
   "source": [
    "### モデル"
   ]
  },
  {
   "cell_type": "code",
   "execution_count": 3,
   "id": "0b2c6c78-c0c3-4bb4-a968-95ee65559010",
   "metadata": {},
   "outputs": [],
   "source": [
    "# LGBMRankerのモデルを作成\n",
    "model = lgb.LGBMRanker()"
   ]
  },
  {
   "cell_type": "markdown",
   "id": "3e2c7e18-8e13-451a-a47f-d954f8385858",
   "metadata": {},
   "source": [
    "### データセットを整形する関数"
   ]
  },
  {
   "cell_type": "code",
   "execution_count": 4,
   "id": "49c21273-7f23-4269-8066-e8b57625a254",
   "metadata": {},
   "outputs": [],
   "source": [
    "\"\"\"\n",
    "データセットをtrain_X/train_y/valid_X/valid_yの4つに分ける関数(4等分)\n",
    "\"\"\"\n",
    "def separate_dataset(dataset_path):\n",
    "    data = pd.read_csv(dataset_path, sep=\"\\t\")\n",
    "    data[\"time_stamp\"] = pd.to_datetime(data[\"time_stamp\"])\n",
    "    \n",
    "    users = defaultdict(int) #データセットのそれぞれのuser数を保持\n",
    "    for user in data.loc[:,\"user_id\"]:\n",
    "        users[user] += 1\n",
    "    \n",
    "    total = data.shape[0] #対象のデータセットの総数\n",
    "    list_train_X, list_train_y = [], []\n",
    "    list_val_X, list_val_y = [], []\n",
    "    cnt_users = defaultdict(int)\n",
    "    \n",
    "    print(\"Separating dataset is going to start.\")\n",
    "    #4/10 -> train_X, 8/10 -> train_y, 9/10 -> valid_X, 10/10 -> valid_y\n",
    "    for idx in trange(total):\n",
    "        try:\n",
    "            info = data.iloc[idx,:]\n",
    "            user_name = info.loc[\"user_id\"]\n",
    "            if cnt_users[user_name] < (users[user_name]/10)*4:\n",
    "                list_train_X.append(info)\n",
    "            elif cnt_users[user_name] < (users[user_name]/10)*8:\n",
    "                list_train_y.append(info)\n",
    "            elif cnt_users[user_name] < (users[user_name]/10)*9:\n",
    "                list_val_X.append(info)\n",
    "            else:\n",
    "                list_val_y.append(info)\n",
    "            cnt_users[user_name] += 1\n",
    "        except KeyError:\n",
    "            continue\n",
    "        except IndexError:\n",
    "            continue\n",
    "            \n",
    "    #作成したDataFrameのcolumnsとrowsを転置\n",
    "    data_train_X = pd.concat(list_train_X, axis=1).T\n",
    "    data_train_y= pd.concat(list_train_y, axis=1).T\n",
    "    data_val_X = pd.concat(list_val_X, axis=1).T\n",
    "    data_val_y= pd.concat(list_val_y, axis=1).T\n",
    "    \n",
    "    return data_train_X, data_train_y, data_val_X, data_val_y\n",
    "\n",
    "\"\"\"\n",
    "user_idに関するデータセットの整形\n",
    "\"\"\"\n",
    "def make_user_id(dataset_X, flag):\n",
    "    u_p = dataset_X.groupby(\"user_id\").apply(lambda x: len(x[\"product_id\"].unique()))\n",
    "    u_d = dataset_X.groupby(\"user_id\").apply(lambda x: len(x[\"time_stamp\"].apply(lambda x: x.date()).unique()))\n",
    "    u_pv = dataset_X.groupby(\"user_id\").apply(lambda x: (x[\"event_type\"] == 1).sum())\n",
    "    u = pd.concat([u_p, u_d, u_pv], axis=1) #横方向に結合\n",
    "    if flag == \"val\":\n",
    "        u.columns = [\"u_p_val\", \"u_d_val\", \"u_pv_val\"]\n",
    "    else:\n",
    "        u.columns = [\"u_p\", \"u_d\", \"u_pv\"]\n",
    "    \n",
    "    return u\n",
    "    \n",
    "\"\"\"\n",
    "product_idに関するデータセットの整形\n",
    "\"\"\"\n",
    "def make_product_id(dataset_X, flag):\n",
    "    p_u = dataset_X.groupby(\"product_id\").apply(lambda x: len(x[\"user_id\"].unique()))\n",
    "    \"\"\"event_type\n",
    "    0 -> カートに入れた\n",
    "    1 -> 閲覧した\n",
    "    2 -> クリックした\n",
    "    3 -> 購入した\n",
    "    \"\"\"\n",
    "    p_ca = dataset_X.groupby(\"product_id\").apply(lambda x: (x[\"event_type\"] == 0).sum())\n",
    "    p_pv = dataset_X.groupby(\"product_id\").apply(lambda x: (x[\"event_type\"] == 1).sum())\n",
    "    p_cl = dataset_X.groupby(\"product_id\").apply(lambda x: (x[\"event_type\"] == 2).sum())\n",
    "    p_cv = dataset_X.groupby(\"product_id\").apply(lambda x: (x[\"event_type\"] == 3).sum())\n",
    "    p = pd.concat([p_u, p_ca, p_pv, p_cl, p_cv], axis=1) #横方向に結合\n",
    "    if flag == \"val\":\n",
    "        p.columns = ['p_u_val', 'p_pv_val', 'p_ca_val', 'p_cl_val', 'p_cv_val']\n",
    "    else:\n",
    "        p.columns = ['p_u', 'p_pv', 'p_ca', 'p_cl', 'p_cv']\n",
    "    \n",
    "    return p\n",
    "    \n",
    "\"\"\"\n",
    "user_idとproduct_idに関するデータセットの整形\n",
    "\"\"\"\n",
    "def make_user_product_id(dataset_X, flag):\n",
    "    u_p_ca = dataset_X.groupby([\"user_id\", \"product_id\"]).apply(lambda x: (x[\"event_type\"] == 0).sum())\n",
    "    u_p_pv = dataset_X.groupby([\"user_id\",\"product_id\"]).apply(lambda x: (x[\"event_type\"] == 1).sum())\n",
    "    u_p_cl = dataset_X.groupby([\"user_id\",\"product_id\"]).apply(lambda x: (x[\"event_type\"] == 2).sum())\n",
    "    u_p_cv = dataset_X.groupby([\"user_id\",\"product_id\"]).apply(lambda x: (x[\"event_type\"] == 3).sum())\n",
    "    u_p = pd.concat([u_p_pv, u_p_ca, u_p_cl, u_p_cv], axis=1) #横方向に結合\n",
    "    if flag == \"val\":\n",
    "        u_p.columns = ['u_p_pv_val', 'u_p_ca_val', 'u_p_cl_val', 'u_p_cv_val']\n",
    "    else:\n",
    "        u_p.columns = ['u_p_pv', 'u_p_ca', 'u_p_cl', 'u_p_cv']\n",
    "    \n",
    "    return u_p\n",
    "\n",
    "\"\"\"\n",
    "整形したデータセットを結合\n",
    "\"\"\"\n",
    "def let_merged(u, p, u_p):\n",
    "    u = u.reset_index()\n",
    "    p = p.reset_index()\n",
    "    u_p = u_p.reset_index()\n",
    "\n",
    "    merged = pd.merge(u_p, u, on = \"user_id\", how=\"inner\")\n",
    "    merged = pd.merge(merged, p, on=\"product_id\", how=\"inner\")\n",
    "    \n",
    "    return merged\n",
    "\n",
    "\"\"\"\n",
    "それぞれのuserの行動価値を算出\n",
    "\"\"\"\n",
    "def add_relation(dataset_y, merged):\n",
    "    rel = dataset_y.groupby([\"user_id\",\"product_id\"]).apply(lambda x: max(x[\"event_type\"]) + 1)\n",
    "    rel = rel.reset_index()\n",
    "    rel = rel.rename(columns={0: 'y'})\n",
    "    user_x = set(merged['user_id'])\n",
    "    user_y = set(rel['user_id'])\n",
    "    user_xy = user_x.intersection(user_y) #共通のユーザー\n",
    "    merged = merged[merged[\"user_id\"].isin(user_xy)] #特徴量データの抽出\n",
    "    rel = pd.merge(merged[['user_id', 'product_id']], rel) #目的変数データの抽出\n",
    "    alls = pd.merge(merged, rel, on=[\"user_id\",\"product_id\"], how=\"outer\")\n",
    "    alls = alls.fillna(0) #欠損値を0で埋める\n",
    "    alls[\"y\"] = alls[\"y\"].astype(int)\n",
    "    \n",
    "    return alls\n",
    "\n",
    "\"\"\"\n",
    "クエリリストと整形が完了した最終的なデータセットの作成\n",
    "\"\"\"\n",
    "def make_query_list(alls, flag):\n",
    "    query_list = alls[\"user_id\"].value_counts()\n",
    "    alls = alls.set_index(['user_id', 'product_id'])\n",
    "    query_list = query_list.sort_index()\n",
    "    alls = alls.sort_index()\n",
    "    if flag == \"val\":\n",
    "        X = alls[['p_u_val', 'p_pv_val', 'p_ca_val', 'p_cl_val', 'p_cv_val', 'u_p_val', 'u_d_val', 'u_pv_val', 'u_p_pv_val', 'u_p_ca_val', 'u_p_cl_val', 'u_p_cv_val']]\n",
    "    else:\n",
    "        X = alls[['p_u', 'p_pv', 'p_ca', 'p_cl', 'p_cv', 'u_p', 'u_d', 'u_pv', 'u_p_pv', 'u_p_ca', 'u_p_cl', 'u_p_cv']]\n",
    "    y = alls[\"y\"]\n",
    "    \n",
    "    return query_list, X, y"
   ]
  },
  {
   "cell_type": "code",
   "execution_count": 5,
   "id": "adb17227-3752-485a-89a9-4941d315444f",
   "metadata": {},
   "outputs": [
    {
     "name": "stdout",
     "output_type": "stream",
     "text": [
      "Separating dataset is going to start.\n"
     ]
    },
    {
     "data": {
      "application/vnd.jupyter.widget-view+json": {
       "model_id": "02993536f4f14f609c1db83089e99281",
       "version_major": 2,
       "version_minor": 0
      },
      "text/plain": [
       "  0%|          | 0/3572842 [00:00<?, ?it/s]"
      ]
     },
     "metadata": {},
     "output_type": "display_data"
    }
   ],
   "source": [
    "data_train_X, data_train_y, data_val_X, data_val_y = separate_dataset(dataset_path)"
   ]
  },
  {
   "cell_type": "markdown",
   "id": "9fda16bb-49aa-4e8d-bcf5-9b993d8a0418",
   "metadata": {},
   "source": [
    "### 学習データセットの作成"
   ]
  },
  {
   "cell_type": "code",
   "execution_count": 6,
   "id": "12cf9338-49c5-49ed-b118-2a295662dcbf",
   "metadata": {},
   "outputs": [],
   "source": [
    "u = make_user_id(data_train_X, flag=\"train\")\n",
    "p = make_product_id(data_train_X, flag=\"train\")\n",
    "u_p = make_user_product_id(data_train_X, flag=\"train\")\n",
    "merged = let_merged(u, p, u_p)\n",
    "train_all = add_relation(data_train_y, merged)\n",
    "query_list, X_train, y_train = make_query_list(train_all, flag=\"train\")"
   ]
  },
  {
   "cell_type": "markdown",
   "id": "84512276-82ad-44dd-8783-10013e3e299a",
   "metadata": {},
   "source": [
    "### 検証データセットの作成"
   ]
  },
  {
   "cell_type": "code",
   "execution_count": 7,
   "id": "9db85f43-5218-4aa9-9e96-1db4b6277718",
   "metadata": {},
   "outputs": [],
   "source": [
    "u_val = make_user_id(data_val_X, flag=\"val\")\n",
    "p_val = make_product_id(data_val_X, flag=\"val\")\n",
    "u_p_val = make_user_product_id(data_val_X, flag=\"val\")\n",
    "merged_val = let_merged(u_val, p_val, u_p_val)\n",
    "val_all = add_relation(data_val_y, merged_val)\n",
    "query_list_val, X_val, y_val = make_query_list(val_all, flag=\"val\")"
   ]
  },
  {
   "cell_type": "markdown",
   "id": "b17ed54b-f435-4734-9c2f-0eeaf2c8093d",
   "metadata": {},
   "source": [
    "### 学習"
   ]
  },
  {
   "cell_type": "code",
   "execution_count": 8,
   "id": "dbf747cc-4271-4850-b81b-74cd7d308fe5",
   "metadata": {},
   "outputs": [
    {
     "name": "stdout",
     "output_type": "stream",
     "text": [
      "[1]\tvalid_0's ndcg@1: 0.908514\tvalid_0's ndcg@2: 0.94477\tvalid_0's ndcg@3: 0.953397\tvalid_0's ndcg@4: 0.956399\tvalid_0's ndcg@5: 0.957803\tvalid_0's ndcg@6: 0.958583\tvalid_0's ndcg@7: 0.958955\tvalid_0's ndcg@8: 0.95917\tvalid_0's ndcg@9: 0.959325\tvalid_0's ndcg@10: 0.959445\n",
      "[2]\tvalid_0's ndcg@1: 0.908376\tvalid_0's ndcg@2: 0.944696\tvalid_0's ndcg@3: 0.953374\tvalid_0's ndcg@4: 0.956403\tvalid_0's ndcg@5: 0.957814\tvalid_0's ndcg@6: 0.958542\tvalid_0's ndcg@7: 0.95892\tvalid_0's ndcg@8: 0.959135\tvalid_0's ndcg@9: 0.95929\tvalid_0's ndcg@10: 0.959404\n",
      "[3]\tvalid_0's ndcg@1: 0.908293\tvalid_0's ndcg@2: 0.94463\tvalid_0's ndcg@3: 0.953322\tvalid_0's ndcg@4: 0.956399\tvalid_0's ndcg@5: 0.957781\tvalid_0's ndcg@6: 0.958506\tvalid_0's ndcg@7: 0.958893\tvalid_0's ndcg@8: 0.959099\tvalid_0's ndcg@9: 0.95926\tvalid_0's ndcg@10: 0.959369\n",
      "[4]\tvalid_0's ndcg@1: 0.908238\tvalid_0's ndcg@2: 0.944587\tvalid_0's ndcg@3: 0.953371\tvalid_0's ndcg@4: 0.956404\tvalid_0's ndcg@5: 0.957843\tvalid_0's ndcg@6: 0.958604\tvalid_0's ndcg@7: 0.958954\tvalid_0's ndcg@8: 0.959143\tvalid_0's ndcg@9: 0.959281\tvalid_0's ndcg@10: 0.959388\n",
      "[5]\tvalid_0's ndcg@1: 0.909057\tvalid_0's ndcg@2: 0.945029\tvalid_0's ndcg@3: 0.953886\tvalid_0's ndcg@4: 0.956682\tvalid_0's ndcg@5: 0.958078\tvalid_0's ndcg@6: 0.958806\tvalid_0's ndcg@7: 0.959178\tvalid_0's ndcg@8: 0.959419\tvalid_0's ndcg@9: 0.959563\tvalid_0's ndcg@10: 0.959667\n",
      "[6]\tvalid_0's ndcg@1: 0.90914\tvalid_0's ndcg@2: 0.94517\tvalid_0's ndcg@3: 0.954059\tvalid_0's ndcg@4: 0.956871\tvalid_0's ndcg@5: 0.958281\tvalid_0's ndcg@6: 0.959019\tvalid_0's ndcg@7: 0.959363\tvalid_0's ndcg@8: 0.959558\tvalid_0's ndcg@9: 0.959688\tvalid_0's ndcg@10: 0.959789\n",
      "[7]\tvalid_0's ndcg@1: 0.909555\tvalid_0's ndcg@2: 0.945462\tvalid_0's ndcg@3: 0.954172\tvalid_0's ndcg@4: 0.957019\tvalid_0's ndcg@5: 0.958355\tvalid_0's ndcg@6: 0.95907\tvalid_0's ndcg@7: 0.959426\tvalid_0's ndcg@8: 0.959679\tvalid_0's ndcg@9: 0.959826\tvalid_0's ndcg@10: 0.959922\n",
      "[8]\tvalid_0's ndcg@1: 0.907511\tvalid_0's ndcg@2: 0.943766\tvalid_0's ndcg@3: 0.952965\tvalid_0's ndcg@4: 0.956078\tvalid_0's ndcg@5: 0.957492\tvalid_0's ndcg@6: 0.958249\tvalid_0's ndcg@7: 0.958584\tvalid_0's ndcg@8: 0.958764\tvalid_0's ndcg@9: 0.958891\tvalid_0's ndcg@10: 0.959001\n",
      "[9]\tvalid_0's ndcg@1: 0.909103\tvalid_0's ndcg@2: 0.94515\tvalid_0's ndcg@3: 0.954003\tvalid_0's ndcg@4: 0.956838\tvalid_0's ndcg@5: 0.958217\tvalid_0's ndcg@6: 0.958899\tvalid_0's ndcg@7: 0.959258\tvalid_0's ndcg@8: 0.959482\tvalid_0's ndcg@9: 0.95964\tvalid_0's ndcg@10: 0.959741\n",
      "[10]\tvalid_0's ndcg@1: 0.909131\tvalid_0's ndcg@2: 0.945352\tvalid_0's ndcg@3: 0.954173\tvalid_0's ndcg@4: 0.95702\tvalid_0's ndcg@5: 0.958431\tvalid_0's ndcg@6: 0.959136\tvalid_0's ndcg@7: 0.959461\tvalid_0's ndcg@8: 0.959644\tvalid_0's ndcg@9: 0.959763\tvalid_0's ndcg@10: 0.959875\n",
      "[11]\tvalid_0's ndcg@1: 0.909684\tvalid_0's ndcg@2: 0.945771\tvalid_0's ndcg@3: 0.954403\tvalid_0's ndcg@4: 0.957345\tvalid_0's ndcg@5: 0.958681\tvalid_0's ndcg@6: 0.959383\tvalid_0's ndcg@7: 0.959724\tvalid_0's ndcg@8: 0.959918\tvalid_0's ndcg@9: 0.96004\tvalid_0's ndcg@10: 0.960147\n",
      "[12]\tvalid_0's ndcg@1: 0.90973\tvalid_0's ndcg@2: 0.945753\tvalid_0's ndcg@3: 0.954394\tvalid_0's ndcg@4: 0.957345\tvalid_0's ndcg@5: 0.958677\tvalid_0's ndcg@6: 0.959385\tvalid_0's ndcg@7: 0.959723\tvalid_0's ndcg@8: 0.959923\tvalid_0's ndcg@9: 0.960051\tvalid_0's ndcg@10: 0.960157\n",
      "[13]\tvalid_0's ndcg@1: 0.909711\tvalid_0's ndcg@2: 0.945775\tvalid_0's ndcg@3: 0.954412\tvalid_0's ndcg@4: 0.95737\tvalid_0's ndcg@5: 0.958681\tvalid_0's ndcg@6: 0.959386\tvalid_0's ndcg@7: 0.959727\tvalid_0's ndcg@8: 0.959927\tvalid_0's ndcg@9: 0.960055\tvalid_0's ndcg@10: 0.960161\n",
      "[14]\tvalid_0's ndcg@1: 0.90973\tvalid_0's ndcg@2: 0.945765\tvalid_0's ndcg@3: 0.954433\tvalid_0's ndcg@4: 0.957376\tvalid_0's ndcg@5: 0.95868\tvalid_0's ndcg@6: 0.959391\tvalid_0's ndcg@7: 0.959726\tvalid_0's ndcg@8: 0.959932\tvalid_0's ndcg@9: 0.96006\tvalid_0's ndcg@10: 0.960166\n",
      "[15]\tvalid_0's ndcg@1: 0.909702\tvalid_0's ndcg@2: 0.945737\tvalid_0's ndcg@3: 0.95441\tvalid_0's ndcg@4: 0.957349\tvalid_0's ndcg@5: 0.95867\tvalid_0's ndcg@6: 0.959376\tvalid_0's ndcg@7: 0.959716\tvalid_0's ndcg@8: 0.959917\tvalid_0's ndcg@9: 0.960044\tvalid_0's ndcg@10: 0.960151\n",
      "[16]\tvalid_0's ndcg@1: 0.909776\tvalid_0's ndcg@2: 0.945758\tvalid_0's ndcg@3: 0.954455\tvalid_0's ndcg@4: 0.957377\tvalid_0's ndcg@5: 0.958699\tvalid_0's ndcg@6: 0.959404\tvalid_0's ndcg@7: 0.959748\tvalid_0's ndcg@8: 0.959945\tvalid_0's ndcg@9: 0.960073\tvalid_0's ndcg@10: 0.960179\n",
      "[17]\tvalid_0's ndcg@1: 0.909472\tvalid_0's ndcg@2: 0.945658\tvalid_0's ndcg@3: 0.954322\tvalid_0's ndcg@4: 0.957241\tvalid_0's ndcg@5: 0.958569\tvalid_0's ndcg@6: 0.959291\tvalid_0's ndcg@7: 0.959635\tvalid_0's ndcg@8: 0.959829\tvalid_0's ndcg@9: 0.959957\tvalid_0's ndcg@10: 0.960063\n",
      "[18]\tvalid_0's ndcg@1: 0.90949\tvalid_0's ndcg@2: 0.945607\tvalid_0's ndcg@3: 0.954285\tvalid_0's ndcg@4: 0.957227\tvalid_0's ndcg@5: 0.958563\tvalid_0's ndcg@6: 0.959288\tvalid_0's ndcg@7: 0.959625\tvalid_0's ndcg@8: 0.959817\tvalid_0's ndcg@9: 0.959944\tvalid_0's ndcg@10: 0.960053\n",
      "[19]\tvalid_0's ndcg@1: 0.90938\tvalid_0's ndcg@2: 0.945583\tvalid_0's ndcg@3: 0.954215\tvalid_0's ndcg@4: 0.957181\tvalid_0's ndcg@5: 0.958524\tvalid_0's ndcg@6: 0.959246\tvalid_0's ndcg@7: 0.959583\tvalid_0's ndcg@8: 0.959784\tvalid_0's ndcg@9: 0.9599\tvalid_0's ndcg@10: 0.960009\n",
      "[20]\tvalid_0's ndcg@1: 0.909435\tvalid_0's ndcg@2: 0.945592\tvalid_0's ndcg@3: 0.954247\tvalid_0's ndcg@4: 0.957205\tvalid_0's ndcg@5: 0.958541\tvalid_0's ndcg@6: 0.959272\tvalid_0's ndcg@7: 0.959604\tvalid_0's ndcg@8: 0.959798\tvalid_0's ndcg@9: 0.959926\tvalid_0's ndcg@10: 0.96003\n",
      "[21]\tvalid_0's ndcg@1: 0.909435\tvalid_0's ndcg@2: 0.945592\tvalid_0's ndcg@3: 0.954242\tvalid_0's ndcg@4: 0.957205\tvalid_0's ndcg@5: 0.958544\tvalid_0's ndcg@6: 0.959265\tvalid_0's ndcg@7: 0.959606\tvalid_0's ndcg@8: 0.959801\tvalid_0's ndcg@9: 0.959925\tvalid_0's ndcg@10: 0.960029\n",
      "[22]\tvalid_0's ndcg@1: 0.909398\tvalid_0's ndcg@2: 0.945584\tvalid_0's ndcg@3: 0.95423\tvalid_0's ndcg@4: 0.957192\tvalid_0's ndcg@5: 0.958535\tvalid_0's ndcg@6: 0.959263\tvalid_0's ndcg@7: 0.959598\tvalid_0's ndcg@8: 0.959789\tvalid_0's ndcg@9: 0.959914\tvalid_0's ndcg@10: 0.960021\n",
      "[23]\tvalid_0's ndcg@1: 0.909343\tvalid_0's ndcg@2: 0.945535\tvalid_0's ndcg@3: 0.95419\tvalid_0's ndcg@4: 0.957164\tvalid_0's ndcg@5: 0.958496\tvalid_0's ndcg@6: 0.959231\tvalid_0's ndcg@7: 0.959559\tvalid_0's ndcg@8: 0.959754\tvalid_0's ndcg@9: 0.959881\tvalid_0's ndcg@10: 0.95999\n",
      "[24]\tvalid_0's ndcg@1: 0.909205\tvalid_0's ndcg@2: 0.945443\tvalid_0's ndcg@3: 0.95413\tvalid_0's ndcg@4: 0.957108\tvalid_0's ndcg@5: 0.958437\tvalid_0's ndcg@6: 0.959172\tvalid_0's ndcg@7: 0.959503\tvalid_0's ndcg@8: 0.959698\tvalid_0's ndcg@9: 0.95982\tvalid_0's ndcg@10: 0.959932\n",
      "[25]\tvalid_0's ndcg@1: 0.909315\tvalid_0's ndcg@2: 0.945513\tvalid_0's ndcg@3: 0.954182\tvalid_0's ndcg@4: 0.957152\tvalid_0's ndcg@5: 0.958481\tvalid_0's ndcg@6: 0.959222\tvalid_0's ndcg@7: 0.959556\tvalid_0's ndcg@8: 0.959745\tvalid_0's ndcg@9: 0.959856\tvalid_0's ndcg@10: 0.959976\n",
      "[26]\tvalid_0's ndcg@1: 0.909297\tvalid_0's ndcg@2: 0.945495\tvalid_0's ndcg@3: 0.954168\tvalid_0's ndcg@4: 0.95713\tvalid_0's ndcg@5: 0.958462\tvalid_0's ndcg@6: 0.95921\tvalid_0's ndcg@7: 0.959542\tvalid_0's ndcg@8: 0.95973\tvalid_0's ndcg@9: 0.959847\tvalid_0's ndcg@10: 0.959964\n",
      "[27]\tvalid_0's ndcg@1: 0.90938\tvalid_0's ndcg@2: 0.945531\tvalid_0's ndcg@3: 0.954191\tvalid_0's ndcg@4: 0.957161\tvalid_0's ndcg@5: 0.958493\tvalid_0's ndcg@6: 0.959241\tvalid_0's ndcg@7: 0.959575\tvalid_0's ndcg@8: 0.959761\tvalid_0's ndcg@9: 0.959875\tvalid_0's ndcg@10: 0.959995\n",
      "[28]\tvalid_0's ndcg@1: 0.909398\tvalid_0's ndcg@2: 0.945561\tvalid_0's ndcg@3: 0.954202\tvalid_0's ndcg@4: 0.957172\tvalid_0's ndcg@5: 0.958504\tvalid_0's ndcg@6: 0.959252\tvalid_0's ndcg@7: 0.959587\tvalid_0's ndcg@8: 0.959773\tvalid_0's ndcg@9: 0.959889\tvalid_0's ndcg@10: 0.960006\n",
      "[29]\tvalid_0's ndcg@1: 0.909398\tvalid_0's ndcg@2: 0.945567\tvalid_0's ndcg@3: 0.954203\tvalid_0's ndcg@4: 0.957174\tvalid_0's ndcg@5: 0.958506\tvalid_0's ndcg@6: 0.959257\tvalid_0's ndcg@7: 0.959588\tvalid_0's ndcg@8: 0.959777\tvalid_0's ndcg@9: 0.959891\tvalid_0's ndcg@10: 0.960008\n",
      "[30]\tvalid_0's ndcg@1: 0.909297\tvalid_0's ndcg@2: 0.945535\tvalid_0's ndcg@3: 0.954172\tvalid_0's ndcg@4: 0.957142\tvalid_0's ndcg@5: 0.958463\tvalid_0's ndcg@6: 0.959218\tvalid_0's ndcg@7: 0.95954\tvalid_0's ndcg@8: 0.959738\tvalid_0's ndcg@9: 0.959848\tvalid_0's ndcg@10: 0.959968\n",
      "[31]\tvalid_0's ndcg@1: 0.909269\tvalid_0's ndcg@2: 0.945537\tvalid_0's ndcg@3: 0.954173\tvalid_0's ndcg@4: 0.957143\tvalid_0's ndcg@5: 0.958461\tvalid_0's ndcg@6: 0.959206\tvalid_0's ndcg@7: 0.959537\tvalid_0's ndcg@8: 0.959732\tvalid_0's ndcg@9: 0.959843\tvalid_0's ndcg@10: 0.959963\n",
      "[32]\tvalid_0's ndcg@1: 0.909288\tvalid_0's ndcg@2: 0.945538\tvalid_0's ndcg@3: 0.954179\tvalid_0's ndcg@4: 0.957153\tvalid_0's ndcg@5: 0.958471\tvalid_0's ndcg@6: 0.959215\tvalid_0's ndcg@7: 0.959544\tvalid_0's ndcg@8: 0.959738\tvalid_0's ndcg@9: 0.959849\tvalid_0's ndcg@10: 0.959969\n",
      "[33]\tvalid_0's ndcg@1: 0.909278\tvalid_0's ndcg@2: 0.94554\tvalid_0's ndcg@3: 0.954172\tvalid_0's ndcg@4: 0.95715\tvalid_0's ndcg@5: 0.958461\tvalid_0's ndcg@6: 0.959209\tvalid_0's ndcg@7: 0.959534\tvalid_0's ndcg@8: 0.959737\tvalid_0's ndcg@9: 0.959851\tvalid_0's ndcg@10: 0.959965\n",
      "[34]\tvalid_0's ndcg@1: 0.90926\tvalid_0's ndcg@2: 0.945527\tvalid_0's ndcg@3: 0.95415\tvalid_0's ndcg@4: 0.957148\tvalid_0's ndcg@5: 0.958455\tvalid_0's ndcg@6: 0.959203\tvalid_0's ndcg@7: 0.959532\tvalid_0's ndcg@8: 0.959729\tvalid_0's ndcg@9: 0.959845\tvalid_0's ndcg@10: 0.95996\n",
      "[35]\tvalid_0's ndcg@1: 0.909288\tvalid_0's ndcg@2: 0.94552\tvalid_0's ndcg@3: 0.954171\tvalid_0's ndcg@4: 0.957161\tvalid_0's ndcg@5: 0.958468\tvalid_0's ndcg@6: 0.959216\tvalid_0's ndcg@7: 0.959553\tvalid_0's ndcg@8: 0.959739\tvalid_0's ndcg@9: 0.959853\tvalid_0's ndcg@10: 0.959967\n",
      "[36]\tvalid_0's ndcg@1: 0.908827\tvalid_0's ndcg@2: 0.945164\tvalid_0's ndcg@3: 0.953944\tvalid_0's ndcg@4: 0.956882\tvalid_0's ndcg@5: 0.958293\tvalid_0's ndcg@6: 0.958995\tvalid_0's ndcg@7: 0.959323\tvalid_0's ndcg@8: 0.959532\tvalid_0's ndcg@9: 0.959654\tvalid_0's ndcg@10: 0.959766\n",
      "[37]\tvalid_0's ndcg@1: 0.908413\tvalid_0's ndcg@2: 0.944878\tvalid_0's ndcg@3: 0.953685\tvalid_0's ndcg@4: 0.956576\tvalid_0's ndcg@5: 0.957954\tvalid_0's ndcg@6: 0.958663\tvalid_0's ndcg@7: 0.959019\tvalid_0's ndcg@8: 0.959236\tvalid_0's ndcg@9: 0.959358\tvalid_0's ndcg@10: 0.95947\n",
      "[38]\tvalid_0's ndcg@1: 0.909076\tvalid_0's ndcg@2: 0.945297\tvalid_0's ndcg@3: 0.954012\tvalid_0's ndcg@4: 0.956966\tvalid_0's ndcg@5: 0.958341\tvalid_0's ndcg@6: 0.959049\tvalid_0's ndcg@7: 0.959384\tvalid_0's ndcg@8: 0.959599\tvalid_0's ndcg@9: 0.959721\tvalid_0's ndcg@10: 0.95983\n",
      "[39]\tvalid_0's ndcg@1: 0.908956\tvalid_0's ndcg@2: 0.945224\tvalid_0's ndcg@3: 0.953906\tvalid_0's ndcg@4: 0.956872\tvalid_0's ndcg@5: 0.958208\tvalid_0's ndcg@6: 0.9589\tvalid_0's ndcg@7: 0.959241\tvalid_0's ndcg@8: 0.959456\tvalid_0's ndcg@9: 0.959583\tvalid_0's ndcg@10: 0.959695\n",
      "[40]\tvalid_0's ndcg@1: 0.908938\tvalid_0's ndcg@2: 0.945217\tvalid_0's ndcg@3: 0.95389\tvalid_0's ndcg@4: 0.956864\tvalid_0's ndcg@5: 0.9582\tvalid_0's ndcg@6: 0.958892\tvalid_0's ndcg@7: 0.959227\tvalid_0's ndcg@8: 0.959447\tvalid_0's ndcg@9: 0.959575\tvalid_0's ndcg@10: 0.959687\n",
      "[41]\tvalid_0's ndcg@1: 0.909067\tvalid_0's ndcg@2: 0.945247\tvalid_0's ndcg@3: 0.953943\tvalid_0's ndcg@4: 0.956921\tvalid_0's ndcg@5: 0.958243\tvalid_0's ndcg@6: 0.958942\tvalid_0's ndcg@7: 0.959276\tvalid_0's ndcg@8: 0.959494\tvalid_0's ndcg@9: 0.959621\tvalid_0's ndcg@10: 0.959733\n",
      "[42]\tvalid_0's ndcg@1: 0.909067\tvalid_0's ndcg@2: 0.945247\tvalid_0's ndcg@3: 0.953948\tvalid_0's ndcg@4: 0.956926\tvalid_0's ndcg@5: 0.958248\tvalid_0's ndcg@6: 0.95894\tvalid_0's ndcg@7: 0.95928\tvalid_0's ndcg@8: 0.959495\tvalid_0's ndcg@9: 0.95962\tvalid_0's ndcg@10: 0.959734\n",
      "[43]\tvalid_0's ndcg@1: 0.909094\tvalid_0's ndcg@2: 0.945269\tvalid_0's ndcg@3: 0.953961\tvalid_0's ndcg@4: 0.956935\tvalid_0's ndcg@5: 0.95826\tvalid_0's ndcg@6: 0.958949\tvalid_0's ndcg@7: 0.959289\tvalid_0's ndcg@8: 0.959507\tvalid_0's ndcg@9: 0.959635\tvalid_0's ndcg@10: 0.959746\n",
      "[44]\tvalid_0's ndcg@1: 0.909076\tvalid_0's ndcg@2: 0.945274\tvalid_0's ndcg@3: 0.953956\tvalid_0's ndcg@4: 0.95693\tvalid_0's ndcg@5: 0.958259\tvalid_0's ndcg@6: 0.958944\tvalid_0's ndcg@7: 0.959285\tvalid_0's ndcg@8: 0.959503\tvalid_0's ndcg@9: 0.95963\tvalid_0's ndcg@10: 0.959742\n",
      "[45]\tvalid_0's ndcg@1: 0.909094\tvalid_0's ndcg@2: 0.945257\tvalid_0's ndcg@3: 0.953944\tvalid_0's ndcg@4: 0.956918\tvalid_0's ndcg@5: 0.958258\tvalid_0's ndcg@6: 0.958943\tvalid_0's ndcg@7: 0.959287\tvalid_0's ndcg@8: 0.959502\tvalid_0's ndcg@9: 0.959629\tvalid_0's ndcg@10: 0.959741\n",
      "[46]\tvalid_0's ndcg@1: 0.909564\tvalid_0's ndcg@2: 0.945523\tvalid_0's ndcg@3: 0.954192\tvalid_0's ndcg@4: 0.95719\tvalid_0's ndcg@5: 0.958519\tvalid_0's ndcg@6: 0.959211\tvalid_0's ndcg@7: 0.959558\tvalid_0's ndcg@8: 0.959767\tvalid_0's ndcg@9: 0.959886\tvalid_0's ndcg@10: 0.96\n",
      "[47]\tvalid_0's ndcg@1: 0.909499\tvalid_0's ndcg@2: 0.945476\tvalid_0's ndcg@3: 0.954159\tvalid_0's ndcg@4: 0.957109\tvalid_0's ndcg@5: 0.958438\tvalid_0's ndcg@6: 0.959143\tvalid_0's ndcg@7: 0.959502\tvalid_0's ndcg@8: 0.959714\tvalid_0's ndcg@9: 0.959817\tvalid_0's ndcg@10: 0.959929\n",
      "[48]\tvalid_0's ndcg@1: 0.909472\tvalid_0's ndcg@2: 0.945472\tvalid_0's ndcg@3: 0.954122\tvalid_0's ndcg@4: 0.957085\tvalid_0's ndcg@5: 0.958413\tvalid_0's ndcg@6: 0.959135\tvalid_0's ndcg@7: 0.959488\tvalid_0's ndcg@8: 0.9597\tvalid_0's ndcg@9: 0.959802\tvalid_0's ndcg@10: 0.959911\n",
      "[49]\tvalid_0's ndcg@1: 0.909481\tvalid_0's ndcg@2: 0.945458\tvalid_0's ndcg@3: 0.954122\tvalid_0's ndcg@4: 0.95708\tvalid_0's ndcg@5: 0.958409\tvalid_0's ndcg@6: 0.959134\tvalid_0's ndcg@7: 0.959481\tvalid_0's ndcg@8: 0.959696\tvalid_0's ndcg@9: 0.959804\tvalid_0's ndcg@10: 0.959915\n",
      "[50]\tvalid_0's ndcg@1: 0.909509\tvalid_0's ndcg@2: 0.945474\tvalid_0's ndcg@3: 0.954143\tvalid_0's ndcg@4: 0.957089\tvalid_0's ndcg@5: 0.958421\tvalid_0's ndcg@6: 0.959146\tvalid_0's ndcg@7: 0.959493\tvalid_0's ndcg@8: 0.959708\tvalid_0's ndcg@9: 0.959816\tvalid_0's ndcg@10: 0.959928\n",
      "[51]\tvalid_0's ndcg@1: 0.909518\tvalid_0's ndcg@2: 0.945483\tvalid_0's ndcg@3: 0.954143\tvalid_0's ndcg@4: 0.957089\tvalid_0's ndcg@5: 0.958425\tvalid_0's ndcg@6: 0.959146\tvalid_0's ndcg@7: 0.959499\tvalid_0's ndcg@8: 0.959711\tvalid_0's ndcg@9: 0.95982\tvalid_0's ndcg@10: 0.959929\n",
      "[52]\tvalid_0's ndcg@1: 0.909177\tvalid_0's ndcg@2: 0.945288\tvalid_0's ndcg@3: 0.95397\tvalid_0's ndcg@4: 0.956944\tvalid_0's ndcg@5: 0.95828\tvalid_0's ndcg@6: 0.959002\tvalid_0's ndcg@7: 0.959355\tvalid_0's ndcg@8: 0.959564\tvalid_0's ndcg@9: 0.959672\tvalid_0's ndcg@10: 0.959786\n",
      "[53]\tvalid_0's ndcg@1: 0.909205\tvalid_0's ndcg@2: 0.945298\tvalid_0's ndcg@3: 0.953976\tvalid_0's ndcg@4: 0.956946\tvalid_0's ndcg@5: 0.958275\tvalid_0's ndcg@6: 0.959006\tvalid_0's ndcg@7: 0.959368\tvalid_0's ndcg@8: 0.959572\tvalid_0's ndcg@9: 0.95968\tvalid_0's ndcg@10: 0.959799\n",
      "[54]\tvalid_0's ndcg@1: 0.909205\tvalid_0's ndcg@2: 0.945286\tvalid_0's ndcg@3: 0.953964\tvalid_0's ndcg@4: 0.956938\tvalid_0's ndcg@5: 0.958274\tvalid_0's ndcg@6: 0.959006\tvalid_0's ndcg@7: 0.959365\tvalid_0's ndcg@8: 0.959568\tvalid_0's ndcg@9: 0.959676\tvalid_0's ndcg@10: 0.959796\n",
      "[55]\tvalid_0's ndcg@1: 0.909214\tvalid_0's ndcg@2: 0.94529\tvalid_0's ndcg@3: 0.953972\tvalid_0's ndcg@4: 0.956923\tvalid_0's ndcg@5: 0.958262\tvalid_0's ndcg@6: 0.959006\tvalid_0's ndcg@7: 0.959362\tvalid_0's ndcg@8: 0.959566\tvalid_0's ndcg@9: 0.959685\tvalid_0's ndcg@10: 0.959799\n",
      "[56]\tvalid_0's ndcg@1: 0.909168\tvalid_0's ndcg@2: 0.945278\tvalid_0's ndcg@3: 0.953961\tvalid_0's ndcg@4: 0.956911\tvalid_0's ndcg@5: 0.958237\tvalid_0's ndcg@6: 0.958991\tvalid_0's ndcg@7: 0.959347\tvalid_0's ndcg@8: 0.95955\tvalid_0's ndcg@9: 0.959669\tvalid_0's ndcg@10: 0.959784\n",
      "[57]\tvalid_0's ndcg@1: 0.909186\tvalid_0's ndcg@2: 0.945314\tvalid_0's ndcg@3: 0.953979\tvalid_0's ndcg@4: 0.956917\tvalid_0's ndcg@5: 0.958253\tvalid_0's ndcg@6: 0.958997\tvalid_0's ndcg@7: 0.959359\tvalid_0's ndcg@8: 0.95956\tvalid_0's ndcg@9: 0.95969\tvalid_0's ndcg@10: 0.959797\n",
      "[58]\tvalid_0's ndcg@1: 0.909168\tvalid_0's ndcg@2: 0.945296\tvalid_0's ndcg@3: 0.953969\tvalid_0's ndcg@4: 0.956928\tvalid_0's ndcg@5: 0.958253\tvalid_0's ndcg@6: 0.958991\tvalid_0's ndcg@7: 0.95935\tvalid_0's ndcg@8: 0.959547\tvalid_0's ndcg@9: 0.959669\tvalid_0's ndcg@10: 0.959786\n",
      "[59]\tvalid_0's ndcg@1: 0.909205\tvalid_0's ndcg@2: 0.945286\tvalid_0's ndcg@3: 0.953978\tvalid_0's ndcg@4: 0.956932\tvalid_0's ndcg@5: 0.958265\tvalid_0's ndcg@6: 0.958999\tvalid_0's ndcg@7: 0.959358\tvalid_0's ndcg@8: 0.959553\tvalid_0's ndcg@9: 0.959678\tvalid_0's ndcg@10: 0.959795\n",
      "[60]\tvalid_0's ndcg@1: 0.909205\tvalid_0's ndcg@2: 0.945298\tvalid_0's ndcg@3: 0.953994\tvalid_0's ndcg@4: 0.956953\tvalid_0's ndcg@5: 0.958267\tvalid_0's ndcg@6: 0.959002\tvalid_0's ndcg@7: 0.959358\tvalid_0's ndcg@8: 0.959555\tvalid_0's ndcg@9: 0.959683\tvalid_0's ndcg@10: 0.9598\n",
      "[61]\tvalid_0's ndcg@1: 0.909103\tvalid_0's ndcg@2: 0.945231\tvalid_0's ndcg@3: 0.953956\tvalid_0's ndcg@4: 0.956894\tvalid_0's ndcg@5: 0.958223\tvalid_0's ndcg@6: 0.958944\tvalid_0's ndcg@7: 0.959315\tvalid_0's ndcg@8: 0.959507\tvalid_0's ndcg@9: 0.959629\tvalid_0's ndcg@10: 0.959754\n",
      "[62]\tvalid_0's ndcg@1: 0.909122\tvalid_0's ndcg@2: 0.945227\tvalid_0's ndcg@3: 0.95396\tvalid_0's ndcg@4: 0.95691\tvalid_0's ndcg@5: 0.958232\tvalid_0's ndcg@6: 0.95895\tvalid_0's ndcg@7: 0.959324\tvalid_0's ndcg@8: 0.959513\tvalid_0's ndcg@9: 0.959638\tvalid_0's ndcg@10: 0.95976\n",
      "[63]\tvalid_0's ndcg@1: 0.909103\tvalid_0's ndcg@2: 0.94522\tvalid_0's ndcg@3: 0.953949\tvalid_0's ndcg@4: 0.956899\tvalid_0's ndcg@5: 0.95822\tvalid_0's ndcg@6: 0.958942\tvalid_0's ndcg@7: 0.959316\tvalid_0's ndcg@8: 0.959505\tvalid_0's ndcg@9: 0.959627\tvalid_0's ndcg@10: 0.959752\n",
      "[64]\tvalid_0's ndcg@1: 0.909113\tvalid_0's ndcg@2: 0.945241\tvalid_0's ndcg@3: 0.95396\tvalid_0's ndcg@4: 0.956914\tvalid_0's ndcg@5: 0.958232\tvalid_0's ndcg@6: 0.958951\tvalid_0's ndcg@7: 0.959325\tvalid_0's ndcg@8: 0.959514\tvalid_0's ndcg@9: 0.959639\tvalid_0's ndcg@10: 0.959761\n",
      "[65]\tvalid_0's ndcg@1: 0.909113\tvalid_0's ndcg@2: 0.945252\tvalid_0's ndcg@3: 0.953967\tvalid_0's ndcg@4: 0.956917\tvalid_0's ndcg@5: 0.958235\tvalid_0's ndcg@6: 0.958954\tvalid_0's ndcg@7: 0.959328\tvalid_0's ndcg@8: 0.959517\tvalid_0's ndcg@9: 0.959642\tvalid_0's ndcg@10: 0.959761\n",
      "[66]\tvalid_0's ndcg@1: 0.909131\tvalid_0's ndcg@2: 0.945253\tvalid_0's ndcg@3: 0.953968\tvalid_0's ndcg@4: 0.956918\tvalid_0's ndcg@5: 0.958236\tvalid_0's ndcg@6: 0.958958\tvalid_0's ndcg@7: 0.959332\tvalid_0's ndcg@8: 0.959521\tvalid_0's ndcg@9: 0.959643\tvalid_0's ndcg@10: 0.959766\n",
      "[67]\tvalid_0's ndcg@1: 0.909103\tvalid_0's ndcg@2: 0.945214\tvalid_0's ndcg@3: 0.953943\tvalid_0's ndcg@4: 0.956897\tvalid_0's ndcg@5: 0.958215\tvalid_0's ndcg@6: 0.958936\tvalid_0's ndcg@7: 0.959314\tvalid_0's ndcg@8: 0.9595\tvalid_0's ndcg@9: 0.959625\tvalid_0's ndcg@10: 0.959747\n",
      "[68]\tvalid_0's ndcg@1: 0.909122\tvalid_0's ndcg@2: 0.945227\tvalid_0's ndcg@3: 0.953951\tvalid_0's ndcg@4: 0.956897\tvalid_0's ndcg@5: 0.958226\tvalid_0's ndcg@6: 0.958947\tvalid_0's ndcg@7: 0.959319\tvalid_0's ndcg@8: 0.959507\tvalid_0's ndcg@9: 0.959632\tvalid_0's ndcg@10: 0.959755\n",
      "[69]\tvalid_0's ndcg@1: 0.909131\tvalid_0's ndcg@2: 0.945236\tvalid_0's ndcg@3: 0.953951\tvalid_0's ndcg@4: 0.956897\tvalid_0's ndcg@5: 0.958226\tvalid_0's ndcg@6: 0.958951\tvalid_0's ndcg@7: 0.959322\tvalid_0's ndcg@8: 0.959511\tvalid_0's ndcg@9: 0.959635\tvalid_0's ndcg@10: 0.959758\n",
      "[70]\tvalid_0's ndcg@1: 0.909113\tvalid_0's ndcg@2: 0.945229\tvalid_0's ndcg@3: 0.953949\tvalid_0's ndcg@4: 0.956891\tvalid_0's ndcg@5: 0.95822\tvalid_0's ndcg@6: 0.958944\tvalid_0's ndcg@7: 0.959316\tvalid_0's ndcg@8: 0.959505\tvalid_0's ndcg@9: 0.959629\tvalid_0's ndcg@10: 0.959752\n",
      "[71]\tvalid_0's ndcg@1: 0.909159\tvalid_0's ndcg@2: 0.945269\tvalid_0's ndcg@3: 0.953966\tvalid_0's ndcg@4: 0.956916\tvalid_0's ndcg@5: 0.958245\tvalid_0's ndcg@6: 0.958966\tvalid_0's ndcg@7: 0.959341\tvalid_0's ndcg@8: 0.959529\tvalid_0's ndcg@9: 0.959651\tvalid_0's ndcg@10: 0.959774\n",
      "[72]\tvalid_0's ndcg@1: 0.909168\tvalid_0's ndcg@2: 0.945278\tvalid_0's ndcg@3: 0.95397\tvalid_0's ndcg@4: 0.956917\tvalid_0's ndcg@5: 0.958252\tvalid_0's ndcg@6: 0.958971\tvalid_0's ndcg@7: 0.959345\tvalid_0's ndcg@8: 0.959534\tvalid_0's ndcg@9: 0.959656\tvalid_0's ndcg@10: 0.959781\n",
      "[73]\tvalid_0's ndcg@1: 0.909103\tvalid_0's ndcg@2: 0.945249\tvalid_0's ndcg@3: 0.953945\tvalid_0's ndcg@4: 0.956892\tvalid_0's ndcg@5: 0.958227\tvalid_0's ndcg@6: 0.958946\tvalid_0's ndcg@7: 0.95932\tvalid_0's ndcg@8: 0.959512\tvalid_0's ndcg@9: 0.959631\tvalid_0's ndcg@10: 0.959753\n",
      "[74]\tvalid_0's ndcg@1: 0.909076\tvalid_0's ndcg@2: 0.94525\tvalid_0's ndcg@3: 0.953938\tvalid_0's ndcg@4: 0.956888\tvalid_0's ndcg@5: 0.958216\tvalid_0's ndcg@6: 0.958935\tvalid_0's ndcg@7: 0.959303\tvalid_0's ndcg@8: 0.959501\tvalid_0's ndcg@9: 0.959623\tvalid_0's ndcg@10: 0.959745\n",
      "[75]\tvalid_0's ndcg@1: 0.909094\tvalid_0's ndcg@2: 0.945257\tvalid_0's ndcg@3: 0.953944\tvalid_0's ndcg@4: 0.956895\tvalid_0's ndcg@5: 0.958223\tvalid_0's ndcg@6: 0.958935\tvalid_0's ndcg@7: 0.959306\tvalid_0's ndcg@8: 0.959504\tvalid_0's ndcg@9: 0.959629\tvalid_0's ndcg@10: 0.959754\n",
      "[76]\tvalid_0's ndcg@1: 0.909048\tvalid_0's ndcg@2: 0.94524\tvalid_0's ndcg@3: 0.953927\tvalid_0's ndcg@4: 0.956878\tvalid_0's ndcg@5: 0.958206\tvalid_0's ndcg@6: 0.958921\tvalid_0's ndcg@7: 0.95929\tvalid_0's ndcg@8: 0.959487\tvalid_0's ndcg@9: 0.959612\tvalid_0's ndcg@10: 0.959737\n",
      "[77]\tvalid_0's ndcg@1: 0.909085\tvalid_0's ndcg@2: 0.945277\tvalid_0's ndcg@3: 0.953946\tvalid_0's ndcg@4: 0.956912\tvalid_0's ndcg@5: 0.958223\tvalid_0's ndcg@6: 0.958941\tvalid_0's ndcg@7: 0.959312\tvalid_0's ndcg@8: 0.959507\tvalid_0's ndcg@9: 0.959632\tvalid_0's ndcg@10: 0.959757\n",
      "[78]\tvalid_0's ndcg@1: 0.909085\tvalid_0's ndcg@2: 0.945271\tvalid_0's ndcg@3: 0.95394\tvalid_0's ndcg@4: 0.956906\tvalid_0's ndcg@5: 0.958213\tvalid_0's ndcg@6: 0.958935\tvalid_0's ndcg@7: 0.959303\tvalid_0's ndcg@8: 0.959501\tvalid_0's ndcg@9: 0.959631\tvalid_0's ndcg@10: 0.959759\n",
      "[79]\tvalid_0's ndcg@1: 0.909113\tvalid_0's ndcg@2: 0.945264\tvalid_0's ndcg@3: 0.953951\tvalid_0's ndcg@4: 0.956913\tvalid_0's ndcg@5: 0.958221\tvalid_0's ndcg@6: 0.958942\tvalid_0's ndcg@7: 0.95931\tvalid_0's ndcg@8: 0.959508\tvalid_0's ndcg@9: 0.959641\tvalid_0's ndcg@10: 0.959766\n",
      "[80]\tvalid_0's ndcg@1: 0.909094\tvalid_0's ndcg@2: 0.945257\tvalid_0's ndcg@3: 0.953944\tvalid_0's ndcg@4: 0.956903\tvalid_0's ndcg@5: 0.958213\tvalid_0's ndcg@6: 0.958935\tvalid_0's ndcg@7: 0.959303\tvalid_0's ndcg@8: 0.959501\tvalid_0's ndcg@9: 0.959631\tvalid_0's ndcg@10: 0.959756\n",
      "[81]\tvalid_0's ndcg@1: 0.909094\tvalid_0's ndcg@2: 0.945257\tvalid_0's ndcg@3: 0.95394\tvalid_0's ndcg@4: 0.956906\tvalid_0's ndcg@5: 0.958213\tvalid_0's ndcg@6: 0.958935\tvalid_0's ndcg@7: 0.959303\tvalid_0's ndcg@8: 0.959501\tvalid_0's ndcg@9: 0.959631\tvalid_0's ndcg@10: 0.959756\n",
      "[82]\tvalid_0's ndcg@1: 0.909131\tvalid_0's ndcg@2: 0.945282\tvalid_0's ndcg@3: 0.95396\tvalid_0's ndcg@4: 0.956931\tvalid_0's ndcg@5: 0.958231\tvalid_0's ndcg@6: 0.958952\tvalid_0's ndcg@7: 0.95932\tvalid_0's ndcg@8: 0.959518\tvalid_0's ndcg@9: 0.959648\tvalid_0's ndcg@10: 0.959773\n",
      "[83]\tvalid_0's ndcg@1: 0.90914\tvalid_0's ndcg@2: 0.945239\tvalid_0's ndcg@3: 0.95395\tvalid_0's ndcg@4: 0.956924\tvalid_0's ndcg@5: 0.958224\tvalid_0's ndcg@6: 0.958945\tvalid_0's ndcg@7: 0.959314\tvalid_0's ndcg@8: 0.959514\tvalid_0's ndcg@9: 0.959644\tvalid_0's ndcg@10: 0.959769\n",
      "[84]\tvalid_0's ndcg@1: 0.909131\tvalid_0's ndcg@2: 0.945236\tvalid_0's ndcg@3: 0.953942\tvalid_0's ndcg@4: 0.95692\tvalid_0's ndcg@5: 0.95822\tvalid_0's ndcg@6: 0.958941\tvalid_0's ndcg@7: 0.95931\tvalid_0's ndcg@8: 0.959513\tvalid_0's ndcg@9: 0.959638\tvalid_0's ndcg@10: 0.959763\n",
      "[85]\tvalid_0's ndcg@1: 0.908035\tvalid_0's ndcg@2: 0.94468\tvalid_0's ndcg@3: 0.953515\tvalid_0's ndcg@4: 0.956485\tvalid_0's ndcg@5: 0.957785\tvalid_0's ndcg@6: 0.9585\tvalid_0's ndcg@7: 0.958875\tvalid_0's ndcg@8: 0.959075\tvalid_0's ndcg@9: 0.959203\tvalid_0's ndcg@10: 0.959322\n",
      "[86]\tvalid_0's ndcg@1: 0.908505\tvalid_0's ndcg@2: 0.944941\tvalid_0's ndcg@3: 0.953697\tvalid_0's ndcg@4: 0.956675\tvalid_0's ndcg@5: 0.957972\tvalid_0's ndcg@6: 0.95869\tvalid_0's ndcg@7: 0.959065\tvalid_0's ndcg@8: 0.959262\tvalid_0's ndcg@9: 0.959392\tvalid_0's ndcg@10: 0.959515\n",
      "[87]\tvalid_0's ndcg@1: 0.908505\tvalid_0's ndcg@2: 0.944929\tvalid_0's ndcg@3: 0.953699\tvalid_0's ndcg@4: 0.956666\tvalid_0's ndcg@5: 0.95798\tvalid_0's ndcg@6: 0.958695\tvalid_0's ndcg@7: 0.959069\tvalid_0's ndcg@8: 0.95927\tvalid_0's ndcg@9: 0.959394\tvalid_0's ndcg@10: 0.959517\n",
      "[88]\tvalid_0's ndcg@1: 0.908505\tvalid_0's ndcg@2: 0.944929\tvalid_0's ndcg@3: 0.953704\tvalid_0's ndcg@4: 0.956666\tvalid_0's ndcg@5: 0.957981\tvalid_0's ndcg@6: 0.958696\tvalid_0's ndcg@7: 0.95907\tvalid_0's ndcg@8: 0.95927\tvalid_0's ndcg@9: 0.959398\tvalid_0's ndcg@10: 0.959518\n",
      "[89]\tvalid_0's ndcg@1: 0.908441\tvalid_0's ndcg@2: 0.944911\tvalid_0's ndcg@3: 0.953649\tvalid_0's ndcg@4: 0.956643\tvalid_0's ndcg@5: 0.957954\tvalid_0's ndcg@6: 0.958659\tvalid_0's ndcg@7: 0.959037\tvalid_0's ndcg@8: 0.959237\tvalid_0's ndcg@9: 0.959359\tvalid_0's ndcg@10: 0.959481\n",
      "[90]\tvalid_0's ndcg@1: 0.908312\tvalid_0's ndcg@2: 0.944806\tvalid_0's ndcg@3: 0.953585\tvalid_0's ndcg@4: 0.956646\tvalid_0's ndcg@5: 0.9579\tvalid_0's ndcg@6: 0.958609\tvalid_0's ndcg@7: 0.958983\tvalid_0's ndcg@8: 0.959195\tvalid_0's ndcg@9: 0.959306\tvalid_0's ndcg@10: 0.959431\n",
      "[91]\tvalid_0's ndcg@1: 0.908376\tvalid_0's ndcg@2: 0.944853\tvalid_0's ndcg@3: 0.953632\tvalid_0's ndcg@4: 0.956685\tvalid_0's ndcg@5: 0.957946\tvalid_0's ndcg@6: 0.958651\tvalid_0's ndcg@7: 0.959004\tvalid_0's ndcg@8: 0.959208\tvalid_0's ndcg@9: 0.959332\tvalid_0's ndcg@10: 0.959458\n",
      "[92]\tvalid_0's ndcg@1: 0.908376\tvalid_0's ndcg@2: 0.944858\tvalid_0's ndcg@3: 0.953629\tvalid_0's ndcg@4: 0.956682\tvalid_0's ndcg@5: 0.957946\tvalid_0's ndcg@6: 0.958652\tvalid_0's ndcg@7: 0.959008\tvalid_0's ndcg@8: 0.959208\tvalid_0's ndcg@9: 0.959333\tvalid_0's ndcg@10: 0.959455\n",
      "[93]\tvalid_0's ndcg@1: 0.908385\tvalid_0's ndcg@2: 0.944868\tvalid_0's ndcg@3: 0.953629\tvalid_0's ndcg@4: 0.956686\tvalid_0's ndcg@5: 0.95795\tvalid_0's ndcg@6: 0.958656\tvalid_0's ndcg@7: 0.959012\tvalid_0's ndcg@8: 0.959212\tvalid_0's ndcg@9: 0.959337\tvalid_0's ndcg@10: 0.959459\n",
      "[94]\tvalid_0's ndcg@1: 0.908376\tvalid_0's ndcg@2: 0.94487\tvalid_0's ndcg@3: 0.953645\tvalid_0's ndcg@4: 0.956686\tvalid_0's ndcg@5: 0.957951\tvalid_0's ndcg@6: 0.958656\tvalid_0's ndcg@7: 0.959012\tvalid_0's ndcg@8: 0.959212\tvalid_0's ndcg@9: 0.959337\tvalid_0's ndcg@10: 0.95946\n",
      "[95]\tvalid_0's ndcg@1: 0.908348\tvalid_0's ndcg@2: 0.944837\tvalid_0's ndcg@3: 0.95363\tvalid_0's ndcg@4: 0.956679\tvalid_0's ndcg@5: 0.95794\tvalid_0's ndcg@6: 0.958642\tvalid_0's ndcg@7: 0.959007\tvalid_0's ndcg@8: 0.959199\tvalid_0's ndcg@9: 0.959324\tvalid_0's ndcg@10: 0.959443\n",
      "[96]\tvalid_0's ndcg@1: 0.908339\tvalid_0's ndcg@2: 0.944827\tvalid_0's ndcg@3: 0.953611\tvalid_0's ndcg@4: 0.956673\tvalid_0's ndcg@5: 0.957937\tvalid_0's ndcg@6: 0.958636\tvalid_0's ndcg@7: 0.959001\tvalid_0's ndcg@8: 0.959193\tvalid_0's ndcg@9: 0.959317\tvalid_0's ndcg@10: 0.959437\n",
      "[97]\tvalid_0's ndcg@1: 0.908312\tvalid_0's ndcg@2: 0.944806\tvalid_0's ndcg@3: 0.95359\tvalid_0's ndcg@4: 0.956635\tvalid_0's ndcg@5: 0.9579\tvalid_0's ndcg@6: 0.958598\tvalid_0's ndcg@7: 0.958973\tvalid_0's ndcg@8: 0.959173\tvalid_0's ndcg@9: 0.9593\tvalid_0's ndcg@10: 0.959418\n",
      "[98]\tvalid_0's ndcg@1: 0.908321\tvalid_0's ndcg@2: 0.944821\tvalid_0's ndcg@3: 0.953609\tvalid_0's ndcg@4: 0.956659\tvalid_0's ndcg@5: 0.957912\tvalid_0's ndcg@6: 0.958608\tvalid_0's ndcg@7: 0.958982\tvalid_0's ndcg@8: 0.959183\tvalid_0's ndcg@9: 0.95931\tvalid_0's ndcg@10: 0.959427\n",
      "[99]\tvalid_0's ndcg@1: 0.90833\tvalid_0's ndcg@2: 0.944812\tvalid_0's ndcg@3: 0.953601\tvalid_0's ndcg@4: 0.956638\tvalid_0's ndcg@5: 0.957907\tvalid_0's ndcg@6: 0.958605\tvalid_0's ndcg@7: 0.95898\tvalid_0's ndcg@8: 0.95918\tvalid_0's ndcg@9: 0.959308\tvalid_0's ndcg@10: 0.959425\n",
      "[100]\tvalid_0's ndcg@1: 0.909011\tvalid_0's ndcg@2: 0.945139\tvalid_0's ndcg@3: 0.953873\tvalid_0's ndcg@4: 0.956914\tvalid_0's ndcg@5: 0.958175\tvalid_0's ndcg@6: 0.958867\tvalid_0's ndcg@7: 0.959245\tvalid_0's ndcg@8: 0.959445\tvalid_0's ndcg@9: 0.959575\tvalid_0's ndcg@10: 0.959692\n"
     ]
    },
    {
     "data": {
      "text/plain": [
       "LGBMRanker()"
      ]
     },
     "execution_count": 8,
     "metadata": {},
     "output_type": "execute_result"
    }
   ],
   "source": [
    "model.fit(X_train, y_train, group=query_list, eval_set=[(X_val, y_val)], eval_group=[list(query_list_val)], eval_at=(1,2,3,4,5,6,7,8,9,10))"
   ]
  },
  {
   "cell_type": "code",
   "execution_count": null,
   "id": "0ac2b3f0-23da-4236-ba7d-af4111733a0c",
   "metadata": {},
   "outputs": [],
   "source": [
    "#ユーザー一覧をtest.tsvより取得\n",
    "users = pd.read_csv(test_path, sep='\\t', header=None)\n",
    "\n",
    "#重複を除いたユーザーの取得\n",
    "user_ids = []\n",
    "product_ids = []\n",
    "ranks = []\n",
    "user = set()\n",
    "for u in users[0]:\n",
    "    user.add(u)\n",
    "user = sorted(list(user))\n",
    "\n",
    "#それぞれのユーザーに対する予測結果\n",
    "for u in user:\n",
    "    try:\n",
    "        pred = model.predict(X_val.loc[u]) # 機械学習モデルの出力\n",
    "        pred_products = pd.Series(pred, index=X_val.loc[u].index) # 出力に対して商品IDを割り当てる\n",
    "        products = pred_products.sort_values(ascending=False).index # 関連度が高い順に並び変える\n",
    "        output = list(products)[:20] # 上位20件以内に絞る\n",
    "        user_ids += [u]*len(output) # ユーザーIDを予測数の分だけ列挙\n",
    "        product_ids += output  # products_idsに予測結果を追加\n",
    "        ranks += list(range(1, len(output)+1)) # 各product_idに対してランキングを付与して追加\n",
    "    except KeyError:\n",
    "        continue\n",
    "        \n",
    "\n",
    "#結果を連結\n",
    "results = pd.DataFrame({'user_id': user_ids, 'product_id': product_ids, 'rank': ranks})"
   ]
  },
  {
   "cell_type": "code",
   "execution_count": null,
   "id": "0536cdc1-8db1-4260-bfdd-66d1493c861d",
   "metadata": {},
   "outputs": [],
   "source": [
    "#学習結果をtsvファイルとして保存\n",
    "results.to_csv(save_file_path, sep=\"\\t\", header=False, index=None)"
   ]
  }
 ],
 "metadata": {
  "kernelspec": {
   "display_name": "Python 3 (ipykernel)",
   "language": "python",
   "name": "python3"
  },
  "language_info": {
   "codemirror_mode": {
    "name": "ipython",
    "version": 3
   },
   "file_extension": ".py",
   "mimetype": "text/x-python",
   "name": "python",
   "nbconvert_exporter": "python",
   "pygments_lexer": "ipython3",
   "version": "3.8.12"
  }
 },
 "nbformat": 4,
 "nbformat_minor": 5
}
